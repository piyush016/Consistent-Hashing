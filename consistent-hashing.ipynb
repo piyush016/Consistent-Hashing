{
 "cells": [
  {
   "cell_type": "code",
   "execution_count": 18,
   "id": "2235d234",
   "metadata": {},
   "outputs": [],
   "source": [
    "import requests\n",
    "\n",
    "class StorageNode:\n",
    "    def __init__(self, name=None, host=None): \n",
    "        self.name = name\n",
    "        self.host = host\n",
    "        \n",
    "        #Gets the file from instances of storage node\n",
    "        def fetch_file(self, path):\n",
    "            return requests.get(f\"https://{self.host}:1231/{path}\").text\n",
    "        \n",
    "        #Puts the file on the instances of storage node\n",
    "        def put_file(self, path):\n",
    "            with open(path, 'r') as fp:\n",
    "                content = fp.read()\n",
    "                return requests.post(f\"https://{self.host}:1231/{path}\", body=content).text"
   ]
  },
  {
   "cell_type": "code",
   "execution_count": 19,
   "id": "8c4f72c2",
   "metadata": {},
   "outputs": [],
   "source": [
    "#Storage node holding instances of actual storage node objects\n",
    "\n",
    "#Creating an array to keep track of of storage node(servers) and it's respective IP address\n",
    "storage_nodes = [\n",
    "    StorageNode(name=\"A\", host=\"192.168.20.42\"),\n",
    "    StorageNode(name=\"B\", host=\"192.168.20.52\"),\n",
    "    StorageNode(name=\"C\", host=\"192.168.20.62\"),\n",
    "    StorageNode(name=\"D\", host=\"192.168.20.72\"),\n",
    "    ]\n",
    "\n",
    "#Hash the storage node. \n",
    "\"\"\"\n",
    "Working: sums the bytes present in the 'key' and then take the mod of \n",
    "it with no. of storage node. Thus generating output in the range of[0, len-1]\n",
    "\"\"\"\n",
    "def hash_fn(key):\n",
    "    return sum(bytearray(key.encode('utf-8'))) % len(storage_nodes)"
   ]
  },
  {
   "cell_type": "code",
   "execution_count": 20,
   "id": "d371cfdf",
   "metadata": {},
   "outputs": [],
   "source": [
    "# Maps the file on the ring to the nearest storage node\n",
    "def upload(path):\n",
    "    index = hash_fn(path) #To get the index of the storage node that would hold the file\n",
    "    node = storage_nodes[index] #We get storage node instance\n",
    "     \n",
    "    return node.put_file(path) #We put the file on the node and return it\n",
    "\n",
    "# Fetches the file from the instance of storage node\n",
    "def fetch(path):\n",
    "    index = hash_fn(path) #To get the index of the storage node which is holding the file\n",
    "    node = storage_nodes[index] #We get storage node instance\n",
    "    \n",
    "    return node.fetch_file(path) #We fetch the file from the node and return"
   ]
  },
  {
   "cell_type": "code",
   "execution_count": null,
   "id": "1adb58b5",
   "metadata": {},
   "outputs": [],
   "source": [
    "#Files to be stored on the instance of storage node\n",
    "files = [\"f1.txt\", \"f2.txt\", \"f3.txt\", \"f4.txt\", \"f5.txt\", \"f6.txt\", \"f7.txt\"]\n",
    "\n",
    "#Mapping which file will be stored on which instance\n",
    "for file in files:\n",
    "    print(f\"FILE: {file} ---> NODE: {storage_nodes[hash_fn(file)].name} on HOST: {storage_nodes[hash_fn(file)].host}\")"
   ]
  },
  {
   "cell_type": "code",
   "execution_count": 22,
   "id": "60d105a7",
   "metadata": {},
   "outputs": [],
   "source": [
    "import hashlib\n",
    "from bisect import bisect, bisect_left, bisect_right\n",
    "from plot import plot_hashring"
   ]
  },
  {
   "cell_type": "code",
   "execution_count": 23,
   "id": "ae1d53ce",
   "metadata": {},
   "outputs": [],
   "source": [
    "\"\"\"\n",
    "Creates an integer equivalent of SHA256 hash and takes modulo with the\n",
    "total no of slots in hash space\n",
    "\"\"\"\n",
    "def hash_fn(key: str, total_slots: int) -> int:\n",
    "    hsh = hashlib.sha256() \n",
    "    hsh.update(bytes(key.encode('utf-8'))) #Converting data into bytes and passing it to hash function\n",
    "    \n",
    "    #Converting the HEX digest into equivalent integer value\n",
    "    return int(hsh.hexdigest(),16) % total_slots"
   ]
  },
  {
   "cell_type": "code",
   "execution_count": 24,
   "id": "8814cb85",
   "metadata": {},
   "outputs": [],
   "source": [
    " #Represents an array based implementation of consistent hashing\n",
    "class ConsistentHash: \n",
    "   \n",
    "    def __init__(self):\n",
    "        self._keys = [] #Indices taken up in the ring\n",
    "        self.nodes = [] #Nodes present in the ring\n",
    "        self.total_slots = 100 #Total no. of slots\n",
    "    \n",
    "    #Adds new node in the system and return the hash space after placing it on the ring\n",
    "    def add_node(self, node:StorageNode) -> int:\n",
    "        #If no. of instances equals to total slots\n",
    "        if len(self._keys) == self.total_slots: \n",
    "            raise Exception(\"HASH SPACE IS FULL\")\n",
    "            \n",
    "        #Gets the key using hash_fn by hashing the host(IP) of the storage node\n",
    "        key = hash_fn(node.host, self.total_slots) \n",
    "        \n",
    "        #Finds the index where the key should be inserted in the key array\n",
    "        #This will be the index where the storage node will be added in the node\n",
    "        index = bisect(self._keys, key)\n",
    "        \n",
    "        #If Node already present for the same key\n",
    "        if index > 0 and self._keys[index-1] == key:\n",
    "            raise Exception(\"COLLISION OCCURED\")\n",
    "        \n",
    "        #Insert the node and the key at the same index location.\n",
    "        #this will keep node and keys sorted\n",
    "        self.nodes.insert(index, node)\n",
    "        self._keys.insert(index, key)\n",
    "    \n",
    "    #Remove node and returns the key from the hash space on which the node was placed\n",
    "    def remove_node(self, node: StorageNode) -> int:\n",
    "        #If hash space was empty\n",
    "        if len(self._keys) == 0: \n",
    "            raise Exception(\"HASH SPACE IS EMPTY\")\n",
    "        #Gets the key using hash_fn by hashing the host(IP) of the storage node\n",
    "        key = hash_fn(node.host, self.total_slots)\n",
    "        \n",
    "        #Finds the index where the key would reside on\n",
    "        index = bisect_left(self._keys, key)\n",
    "        \n",
    "        #If key does not exist in the array\n",
    "        if index >= len(self._keys) or self._keys[index] != key:\n",
    "            raise Exception(\"NODE DOES NOT EXIST\")\n",
    "        \n",
    "        #We pop the key and the node from the index\n",
    "        self._keys.pop(index)\n",
    "        self.nodes.pop(index)\n",
    "        \n",
    "        return key\n",
    "    \n",
    "    #Given a file, the function returns the node it is associated with\n",
    "    def assign(self, item:str) -> str:\n",
    "        #Gets the key using hash_fn by hashing the host(IP) of the storage node\n",
    "        key = hash_fn(item, self.total_slots)\n",
    "        \n",
    "        #Finds the first index right of the key\n",
    "        #If bisect_right returns index which is out of bound the we circle back to the first in the array\n",
    "        index = bisect_right(self._keys, key) % len(self._keys)\n",
    "        \n",
    "        #Returns the node present at the index\n",
    "        return self.nodes[index]\n",
    "    \n",
    "    #Plots the the storage and file \n",
    "    def plot(self, item:str = None, node: StorageNode = None) -> None:\n",
    "        plot_hashring(\n",
    "            self.total_slots,\n",
    "            self._keys,\n",
    "            self.nodes,\n",
    "            item_key = hash_fn(item, self.total_slots) if item else None,\n",
    "            node_key = hash_fn(node.host, self.total_slots) if node else None,\n",
    "        )"
   ]
  },
  {
   "cell_type": "code",
   "execution_count": 25,
   "id": "b4befd0a",
   "metadata": {},
   "outputs": [],
   "source": [
    "ch = ConsistentHash()"
   ]
  },
  {
   "cell_type": "code",
   "execution_count": null,
   "id": "b10da91c",
   "metadata": {},
   "outputs": [],
   "source": [
    "for node in storage_nodes:\n",
    "    ch.add_node(node) #Adds node in the consistent hash\n",
    "ch.plot() #Plotting the nodes(storage node)"
   ]
  },
  {
   "cell_type": "code",
   "execution_count": null,
   "id": "9f5cd56c",
   "metadata": {},
   "outputs": [],
   "source": [
    "for file in files:\n",
    "        print(f\"FILE: {file}(in green) --->  NODE: {ch.assign(file).name}(in red)\")\n",
    "        ch.plot(file, ch.assign(file))"
   ]
  },
  {
   "cell_type": "code",
   "execution_count": null,
   "id": "bb402970",
   "metadata": {},
   "outputs": [],
   "source": []
  }
 ],
 "metadata": {
  "kernelspec": {
   "display_name": "Python 3.10.4 64-bit",
   "language": "python",
   "name": "python3"
  },
  "language_info": {
   "codemirror_mode": {
    "name": "ipython",
    "version": 3
   },
   "file_extension": ".py",
   "mimetype": "text/x-python",
   "name": "python",
   "nbconvert_exporter": "python",
   "pygments_lexer": "ipython3",
   "version": "3.10.4"
  },
  "vscode": {
   "interpreter": {
    "hash": "916dbcbb3f70747c44a77c7bcd40155683ae19c65e1c03b4aa3499c5328201f1"
   }
  }
 },
 "nbformat": 4,
 "nbformat_minor": 5
}
